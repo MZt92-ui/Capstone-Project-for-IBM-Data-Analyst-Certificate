{
 "cells": [
  {
   "cell_type": "markdown",
   "metadata": {},
   "source": [
    "# Prepare Data\n",
    "<br>Summary\n",
    "- Duplicated records were identified and then removed\n",
    "- For missing values, 73 in 85 columns with missing records. We just worked on feature of work locations this time by replacing the missing values with the most frequent value.<br> For rest of records, it needs further evaluation depending on the specific analysis.\n",
    "- We modified the feature of compensation by standardise the values in annual dimention."
   ]
  },
  {
   "cell_type": "code",
   "execution_count": 103,
   "metadata": {},
   "outputs": [],
   "source": [
    "import pandas as pd\n",
    "import numpy as np\n",
    "import matplotlib\n",
    "import matplotlib.pyplot as plt\n",
    "%matplotlib inline"
   ]
  },
  {
   "cell_type": "code",
   "execution_count": 3,
   "metadata": {
    "scrolled": true
   },
   "outputs": [
    {
     "data": {
      "text/html": [
       "<div>\n",
       "<style scoped>\n",
       "    .dataframe tbody tr th:only-of-type {\n",
       "        vertical-align: middle;\n",
       "    }\n",
       "\n",
       "    .dataframe tbody tr th {\n",
       "        vertical-align: top;\n",
       "    }\n",
       "\n",
       "    .dataframe thead th {\n",
       "        text-align: right;\n",
       "    }\n",
       "</style>\n",
       "<table border=\"1\" class=\"dataframe\">\n",
       "  <thead>\n",
       "    <tr style=\"text-align: right;\">\n",
       "      <th></th>\n",
       "      <th>Respondent</th>\n",
       "      <th>MainBranch</th>\n",
       "      <th>Hobbyist</th>\n",
       "      <th>OpenSourcer</th>\n",
       "      <th>OpenSource</th>\n",
       "      <th>Employment</th>\n",
       "      <th>Country</th>\n",
       "      <th>Student</th>\n",
       "      <th>EdLevel</th>\n",
       "      <th>UndergradMajor</th>\n",
       "      <th>...</th>\n",
       "      <th>WelcomeChange</th>\n",
       "      <th>SONewContent</th>\n",
       "      <th>Age</th>\n",
       "      <th>Gender</th>\n",
       "      <th>Trans</th>\n",
       "      <th>Sexuality</th>\n",
       "      <th>Ethnicity</th>\n",
       "      <th>Dependents</th>\n",
       "      <th>SurveyLength</th>\n",
       "      <th>SurveyEase</th>\n",
       "    </tr>\n",
       "  </thead>\n",
       "  <tbody>\n",
       "    <tr>\n",
       "      <th>0</th>\n",
       "      <td>4</td>\n",
       "      <td>I am a developer by profession</td>\n",
       "      <td>No</td>\n",
       "      <td>Never</td>\n",
       "      <td>The quality of OSS and closed source software ...</td>\n",
       "      <td>Employed full-time</td>\n",
       "      <td>United States</td>\n",
       "      <td>No</td>\n",
       "      <td>Bachelor’s degree (BA, BS, B.Eng., etc.)</td>\n",
       "      <td>Computer science, computer engineering, or sof...</td>\n",
       "      <td>...</td>\n",
       "      <td>Just as welcome now as I felt last year</td>\n",
       "      <td>Tech articles written by other developers;Indu...</td>\n",
       "      <td>22.0</td>\n",
       "      <td>Man</td>\n",
       "      <td>No</td>\n",
       "      <td>Straight / Heterosexual</td>\n",
       "      <td>White or of European descent</td>\n",
       "      <td>No</td>\n",
       "      <td>Appropriate in length</td>\n",
       "      <td>Easy</td>\n",
       "    </tr>\n",
       "    <tr>\n",
       "      <th>1</th>\n",
       "      <td>9</td>\n",
       "      <td>I am a developer by profession</td>\n",
       "      <td>Yes</td>\n",
       "      <td>Once a month or more often</td>\n",
       "      <td>The quality of OSS and closed source software ...</td>\n",
       "      <td>Employed full-time</td>\n",
       "      <td>New Zealand</td>\n",
       "      <td>No</td>\n",
       "      <td>Some college/university study without earning ...</td>\n",
       "      <td>Computer science, computer engineering, or sof...</td>\n",
       "      <td>...</td>\n",
       "      <td>Just as welcome now as I felt last year</td>\n",
       "      <td>NaN</td>\n",
       "      <td>23.0</td>\n",
       "      <td>Man</td>\n",
       "      <td>No</td>\n",
       "      <td>Bisexual</td>\n",
       "      <td>White or of European descent</td>\n",
       "      <td>No</td>\n",
       "      <td>Appropriate in length</td>\n",
       "      <td>Neither easy nor difficult</td>\n",
       "    </tr>\n",
       "    <tr>\n",
       "      <th>2</th>\n",
       "      <td>13</td>\n",
       "      <td>I am a developer by profession</td>\n",
       "      <td>Yes</td>\n",
       "      <td>Less than once a month but more than once per ...</td>\n",
       "      <td>OSS is, on average, of HIGHER quality than pro...</td>\n",
       "      <td>Employed full-time</td>\n",
       "      <td>United States</td>\n",
       "      <td>No</td>\n",
       "      <td>Master’s degree (MA, MS, M.Eng., MBA, etc.)</td>\n",
       "      <td>Computer science, computer engineering, or sof...</td>\n",
       "      <td>...</td>\n",
       "      <td>Somewhat more welcome now than last year</td>\n",
       "      <td>Tech articles written by other developers;Cour...</td>\n",
       "      <td>28.0</td>\n",
       "      <td>Man</td>\n",
       "      <td>No</td>\n",
       "      <td>Straight / Heterosexual</td>\n",
       "      <td>White or of European descent</td>\n",
       "      <td>Yes</td>\n",
       "      <td>Appropriate in length</td>\n",
       "      <td>Easy</td>\n",
       "    </tr>\n",
       "    <tr>\n",
       "      <th>3</th>\n",
       "      <td>16</td>\n",
       "      <td>I am a developer by profession</td>\n",
       "      <td>Yes</td>\n",
       "      <td>Never</td>\n",
       "      <td>The quality of OSS and closed source software ...</td>\n",
       "      <td>Employed full-time</td>\n",
       "      <td>United Kingdom</td>\n",
       "      <td>No</td>\n",
       "      <td>Master’s degree (MA, MS, M.Eng., MBA, etc.)</td>\n",
       "      <td>NaN</td>\n",
       "      <td>...</td>\n",
       "      <td>Just as welcome now as I felt last year</td>\n",
       "      <td>Tech articles written by other developers;Indu...</td>\n",
       "      <td>26.0</td>\n",
       "      <td>Man</td>\n",
       "      <td>No</td>\n",
       "      <td>Straight / Heterosexual</td>\n",
       "      <td>White or of European descent</td>\n",
       "      <td>No</td>\n",
       "      <td>Appropriate in length</td>\n",
       "      <td>Neither easy nor difficult</td>\n",
       "    </tr>\n",
       "    <tr>\n",
       "      <th>4</th>\n",
       "      <td>17</td>\n",
       "      <td>I am a developer by profession</td>\n",
       "      <td>Yes</td>\n",
       "      <td>Less than once a month but more than once per ...</td>\n",
       "      <td>The quality of OSS and closed source software ...</td>\n",
       "      <td>Employed full-time</td>\n",
       "      <td>Australia</td>\n",
       "      <td>No</td>\n",
       "      <td>Bachelor’s degree (BA, BS, B.Eng., etc.)</td>\n",
       "      <td>Computer science, computer engineering, or sof...</td>\n",
       "      <td>...</td>\n",
       "      <td>Just as welcome now as I felt last year</td>\n",
       "      <td>Tech articles written by other developers;Indu...</td>\n",
       "      <td>29.0</td>\n",
       "      <td>Man</td>\n",
       "      <td>No</td>\n",
       "      <td>Straight / Heterosexual</td>\n",
       "      <td>Hispanic or Latino/Latina;Multiracial</td>\n",
       "      <td>No</td>\n",
       "      <td>Appropriate in length</td>\n",
       "      <td>Easy</td>\n",
       "    </tr>\n",
       "  </tbody>\n",
       "</table>\n",
       "<p>5 rows × 85 columns</p>\n",
       "</div>"
      ],
      "text/plain": [
       "   Respondent                      MainBranch Hobbyist  \\\n",
       "0           4  I am a developer by profession       No   \n",
       "1           9  I am a developer by profession      Yes   \n",
       "2          13  I am a developer by profession      Yes   \n",
       "3          16  I am a developer by profession      Yes   \n",
       "4          17  I am a developer by profession      Yes   \n",
       "\n",
       "                                         OpenSourcer  \\\n",
       "0                                              Never   \n",
       "1                         Once a month or more often   \n",
       "2  Less than once a month but more than once per ...   \n",
       "3                                              Never   \n",
       "4  Less than once a month but more than once per ...   \n",
       "\n",
       "                                          OpenSource          Employment  \\\n",
       "0  The quality of OSS and closed source software ...  Employed full-time   \n",
       "1  The quality of OSS and closed source software ...  Employed full-time   \n",
       "2  OSS is, on average, of HIGHER quality than pro...  Employed full-time   \n",
       "3  The quality of OSS and closed source software ...  Employed full-time   \n",
       "4  The quality of OSS and closed source software ...  Employed full-time   \n",
       "\n",
       "          Country Student                                            EdLevel  \\\n",
       "0   United States      No           Bachelor’s degree (BA, BS, B.Eng., etc.)   \n",
       "1     New Zealand      No  Some college/university study without earning ...   \n",
       "2   United States      No        Master’s degree (MA, MS, M.Eng., MBA, etc.)   \n",
       "3  United Kingdom      No        Master’s degree (MA, MS, M.Eng., MBA, etc.)   \n",
       "4       Australia      No           Bachelor’s degree (BA, BS, B.Eng., etc.)   \n",
       "\n",
       "                                      UndergradMajor  ...  \\\n",
       "0  Computer science, computer engineering, or sof...  ...   \n",
       "1  Computer science, computer engineering, or sof...  ...   \n",
       "2  Computer science, computer engineering, or sof...  ...   \n",
       "3                                                NaN  ...   \n",
       "4  Computer science, computer engineering, or sof...  ...   \n",
       "\n",
       "                              WelcomeChange  \\\n",
       "0   Just as welcome now as I felt last year   \n",
       "1   Just as welcome now as I felt last year   \n",
       "2  Somewhat more welcome now than last year   \n",
       "3   Just as welcome now as I felt last year   \n",
       "4   Just as welcome now as I felt last year   \n",
       "\n",
       "                                        SONewContent   Age Gender Trans  \\\n",
       "0  Tech articles written by other developers;Indu...  22.0    Man    No   \n",
       "1                                                NaN  23.0    Man    No   \n",
       "2  Tech articles written by other developers;Cour...  28.0    Man    No   \n",
       "3  Tech articles written by other developers;Indu...  26.0    Man    No   \n",
       "4  Tech articles written by other developers;Indu...  29.0    Man    No   \n",
       "\n",
       "                 Sexuality                              Ethnicity Dependents  \\\n",
       "0  Straight / Heterosexual           White or of European descent         No   \n",
       "1                 Bisexual           White or of European descent         No   \n",
       "2  Straight / Heterosexual           White or of European descent        Yes   \n",
       "3  Straight / Heterosexual           White or of European descent         No   \n",
       "4  Straight / Heterosexual  Hispanic or Latino/Latina;Multiracial         No   \n",
       "\n",
       "            SurveyLength                  SurveyEase  \n",
       "0  Appropriate in length                        Easy  \n",
       "1  Appropriate in length  Neither easy nor difficult  \n",
       "2  Appropriate in length                        Easy  \n",
       "3  Appropriate in length  Neither easy nor difficult  \n",
       "4  Appropriate in length                        Easy  \n",
       "\n",
       "[5 rows x 85 columns]"
      ]
     },
     "execution_count": 3,
     "metadata": {},
     "output_type": "execute_result"
    }
   ],
   "source": [
    "dataset_url=\"https://cf-courses-data.s3.us.cloud-object-storage.appdomain.cloud/IBM-DA0321EN-SkillsNetwork/LargeData/m1_survey_data.csv\"\n",
    "df=pd.read_csv(dataset_url)\n",
    "df.head()"
   ]
  },
  {
   "cell_type": "code",
   "execution_count": 5,
   "metadata": {
    "scrolled": true
   },
   "outputs": [
    {
     "name": "stdout",
     "output_type": "stream",
     "text": [
      "<class 'pandas.core.frame.DataFrame'>\n",
      "RangeIndex: 11552 entries, 0 to 11551\n",
      "Data columns (total 85 columns):\n",
      " #   Column                  Non-Null Count  Dtype  \n",
      "---  ------                  --------------  -----  \n",
      " 0   Respondent              11552 non-null  int64  \n",
      " 1   MainBranch              11552 non-null  object \n",
      " 2   Hobbyist                11552 non-null  object \n",
      " 3   OpenSourcer             11552 non-null  object \n",
      " 4   OpenSource              11471 non-null  object \n",
      " 5   Employment              11552 non-null  object \n",
      " 6   Country                 11552 non-null  object \n",
      " 7   Student                 11499 non-null  object \n",
      " 8   EdLevel                 11436 non-null  object \n",
      " 9   UndergradMajor          10812 non-null  object \n",
      " 10  EduOther                11388 non-null  object \n",
      " 11  OrgSize                 11454 non-null  object \n",
      " 12  DevType                 11485 non-null  object \n",
      " 13  YearsCode               11543 non-null  object \n",
      " 14  Age1stCode              11539 non-null  object \n",
      " 15  YearsCodePro            11536 non-null  object \n",
      " 16  CareerSat               11552 non-null  object \n",
      " 17  JobSat                  11551 non-null  object \n",
      " 18  MgrIdiot                11054 non-null  object \n",
      " 19  MgrMoney                11050 non-null  object \n",
      " 20  MgrWant                 11054 non-null  object \n",
      " 21  JobSeek                 11552 non-null  object \n",
      " 22  LastHireDate            11552 non-null  object \n",
      " 23  LastInt                 11129 non-null  object \n",
      " 24  FizzBuzz                11515 non-null  object \n",
      " 25  JobFactors              11549 non-null  object \n",
      " 26  ResumeUpdate            11511 non-null  object \n",
      " 27  CurrencySymbol          11552 non-null  object \n",
      " 28  CurrencyDesc            11552 non-null  object \n",
      " 29  CompTotal               10737 non-null  float64\n",
      " 30  CompFreq                11346 non-null  object \n",
      " 31  ConvertedComp           10730 non-null  float64\n",
      " 32  WorkWeekHrs             11427 non-null  float64\n",
      " 33  WorkPlan                11429 non-null  object \n",
      " 34  WorkChallenge           11384 non-null  object \n",
      " 35  WorkRemote              11544 non-null  object \n",
      " 36  WorkLoc                 11520 non-null  object \n",
      " 37  ImpSyn                  11547 non-null  object \n",
      " 38  CodeRev                 11551 non-null  object \n",
      " 39  CodeRevHrs              9083 non-null   float64\n",
      " 40  UnitTests               11523 non-null  object \n",
      " 41  PurchaseHow             11354 non-null  object \n",
      " 42  PurchaseWhat            11514 non-null  object \n",
      " 43  LanguageWorkedWith      11541 non-null  object \n",
      " 44  LanguageDesireNextYear  11415 non-null  object \n",
      " 45  DatabaseWorkedWith      11096 non-null  object \n",
      " 46  DatabaseDesireNextYear  10497 non-null  object \n",
      " 47  PlatformWorkedWith      11130 non-null  object \n",
      " 48  PlatformDesireNextYear  10991 non-null  object \n",
      " 49  WebFrameWorkedWith      10139 non-null  object \n",
      " 50  WebFrameDesireNextYear  9918 non-null   object \n",
      " 51  MiscTechWorkedWith      9343 non-null   object \n",
      " 52  MiscTechDesireNextYear  10078 non-null  object \n",
      " 53  DevEnviron              11523 non-null  object \n",
      " 54  OpSys                   11518 non-null  object \n",
      " 55  Containers              11470 non-null  object \n",
      " 56  BlockchainOrg           9198 non-null   object \n",
      " 57  BlockchainIs            8915 non-null   object \n",
      " 58  BetterLife              11452 non-null  object \n",
      " 59  ITperson                11517 non-null  object \n",
      " 60  OffOn                   11514 non-null  object \n",
      " 61  SocialMedia             11251 non-null  object \n",
      " 62  Extraversion            11532 non-null  object \n",
      " 63  ScreenName              11039 non-null  object \n",
      " 64  SOVisit1st              11227 non-null  object \n",
      " 65  SOVisitFreq             11547 non-null  object \n",
      " 66  SOVisitTo               11551 non-null  object \n",
      " 67  SOFindAnswer            11549 non-null  object \n",
      " 68  SOTimeSaved             11501 non-null  object \n",
      " 69  SOHowMuchTime           9616 non-null   object \n",
      " 70  SOAccount               11551 non-null  object \n",
      " 71  SOPartFreq              10404 non-null  object \n",
      " 72  SOJobs                  11546 non-null  object \n",
      " 73  EntTeams                11547 non-null  object \n",
      " 74  SOComm                  11552 non-null  object \n",
      " 75  WelcomeChange           11463 non-null  object \n",
      " 76  SONewContent            9557 non-null   object \n",
      " 77  Age                     11255 non-null  float64\n",
      " 78  Gender                  11477 non-null  object \n",
      " 79  Trans                   11429 non-null  object \n",
      " 80  Sexuality               11005 non-null  object \n",
      " 81  Ethnicity               10869 non-null  object \n",
      " 82  Dependents              11408 non-null  object \n",
      " 83  SurveyLength            11533 non-null  object \n",
      " 84  SurveyEase              11538 non-null  object \n",
      "dtypes: float64(5), int64(1), object(79)\n",
      "memory usage: 7.5+ MB\n"
     ]
    }
   ],
   "source": [
    "# under stand the columns\n",
    "df.info()"
   ]
  },
  {
   "cell_type": "markdown",
   "metadata": {},
   "source": [
    "#### Check duplicated values"
   ]
  },
  {
   "cell_type": "code",
   "execution_count": 9,
   "metadata": {
    "scrolled": false
   },
   "outputs": [
    {
     "data": {
      "text/plain": [
       "2392    3\n",
       "2417    3\n",
       "2410    3\n",
       "2343    3\n",
       "2404    3\n",
       "       ..\n",
       "4672    2\n",
       "4668    2\n",
       "4659    2\n",
       "4658    2\n",
       "4608    2\n",
       "Name: Respondent, Length: 93, dtype: int64"
      ]
     },
     "execution_count": 9,
     "metadata": {},
     "output_type": "execute_result"
    }
   ],
   "source": [
    "df[df.duplicated(keep=False)]['Respondent'].value_counts()"
   ]
  },
  {
   "cell_type": "code",
   "execution_count": 10,
   "metadata": {
    "scrolled": true
   },
   "outputs": [
    {
     "data": {
      "text/html": [
       "<div>\n",
       "<style scoped>\n",
       "    .dataframe tbody tr th:only-of-type {\n",
       "        vertical-align: middle;\n",
       "    }\n",
       "\n",
       "    .dataframe tbody tr th {\n",
       "        vertical-align: top;\n",
       "    }\n",
       "\n",
       "    .dataframe thead th {\n",
       "        text-align: right;\n",
       "    }\n",
       "</style>\n",
       "<table border=\"1\" class=\"dataframe\">\n",
       "  <thead>\n",
       "    <tr style=\"text-align: right;\">\n",
       "      <th></th>\n",
       "      <th>Respondent</th>\n",
       "      <th>MainBranch</th>\n",
       "      <th>Hobbyist</th>\n",
       "      <th>OpenSourcer</th>\n",
       "      <th>OpenSource</th>\n",
       "      <th>Employment</th>\n",
       "      <th>Country</th>\n",
       "      <th>Student</th>\n",
       "      <th>EdLevel</th>\n",
       "      <th>UndergradMajor</th>\n",
       "      <th>...</th>\n",
       "      <th>WelcomeChange</th>\n",
       "      <th>SONewContent</th>\n",
       "      <th>Age</th>\n",
       "      <th>Gender</th>\n",
       "      <th>Trans</th>\n",
       "      <th>Sexuality</th>\n",
       "      <th>Ethnicity</th>\n",
       "      <th>Dependents</th>\n",
       "      <th>SurveyLength</th>\n",
       "      <th>SurveyEase</th>\n",
       "    </tr>\n",
       "  </thead>\n",
       "  <tbody>\n",
       "    <tr>\n",
       "      <th>1128</th>\n",
       "      <td>2392</td>\n",
       "      <td>I am a developer by profession</td>\n",
       "      <td>Yes</td>\n",
       "      <td>Less than once a month but more than once per ...</td>\n",
       "      <td>OSS is, on average, of HIGHER quality than pro...</td>\n",
       "      <td>Employed full-time</td>\n",
       "      <td>United States</td>\n",
       "      <td>No</td>\n",
       "      <td>Some college/university study without earning ...</td>\n",
       "      <td>Web development or web design</td>\n",
       "      <td>...</td>\n",
       "      <td>Just as welcome now as I felt last year</td>\n",
       "      <td>Courses on technologies you're interested in</td>\n",
       "      <td>31.0</td>\n",
       "      <td>Man</td>\n",
       "      <td>No</td>\n",
       "      <td>Straight / Heterosexual</td>\n",
       "      <td>White or of European descent</td>\n",
       "      <td>No</td>\n",
       "      <td>Appropriate in length</td>\n",
       "      <td>Neither easy nor difficult</td>\n",
       "    </tr>\n",
       "    <tr>\n",
       "      <th>1189</th>\n",
       "      <td>2392</td>\n",
       "      <td>I am a developer by profession</td>\n",
       "      <td>Yes</td>\n",
       "      <td>Less than once a month but more than once per ...</td>\n",
       "      <td>OSS is, on average, of HIGHER quality than pro...</td>\n",
       "      <td>Employed full-time</td>\n",
       "      <td>United States</td>\n",
       "      <td>No</td>\n",
       "      <td>Some college/university study without earning ...</td>\n",
       "      <td>Web development or web design</td>\n",
       "      <td>...</td>\n",
       "      <td>Just as welcome now as I felt last year</td>\n",
       "      <td>Courses on technologies you're interested in</td>\n",
       "      <td>31.0</td>\n",
       "      <td>Man</td>\n",
       "      <td>No</td>\n",
       "      <td>Straight / Heterosexual</td>\n",
       "      <td>White or of European descent</td>\n",
       "      <td>No</td>\n",
       "      <td>Appropriate in length</td>\n",
       "      <td>Neither easy nor difficult</td>\n",
       "    </tr>\n",
       "    <tr>\n",
       "      <th>1250</th>\n",
       "      <td>2392</td>\n",
       "      <td>I am a developer by profession</td>\n",
       "      <td>Yes</td>\n",
       "      <td>Less than once a month but more than once per ...</td>\n",
       "      <td>OSS is, on average, of HIGHER quality than pro...</td>\n",
       "      <td>Employed full-time</td>\n",
       "      <td>United States</td>\n",
       "      <td>No</td>\n",
       "      <td>Some college/university study without earning ...</td>\n",
       "      <td>Web development or web design</td>\n",
       "      <td>...</td>\n",
       "      <td>Just as welcome now as I felt last year</td>\n",
       "      <td>Courses on technologies you're interested in</td>\n",
       "      <td>31.0</td>\n",
       "      <td>Man</td>\n",
       "      <td>No</td>\n",
       "      <td>Straight / Heterosexual</td>\n",
       "      <td>White or of European descent</td>\n",
       "      <td>No</td>\n",
       "      <td>Appropriate in length</td>\n",
       "      <td>Neither easy nor difficult</td>\n",
       "    </tr>\n",
       "  </tbody>\n",
       "</table>\n",
       "<p>3 rows × 85 columns</p>\n",
       "</div>"
      ],
      "text/plain": [
       "      Respondent                      MainBranch Hobbyist  \\\n",
       "1128        2392  I am a developer by profession      Yes   \n",
       "1189        2392  I am a developer by profession      Yes   \n",
       "1250        2392  I am a developer by profession      Yes   \n",
       "\n",
       "                                            OpenSourcer  \\\n",
       "1128  Less than once a month but more than once per ...   \n",
       "1189  Less than once a month but more than once per ...   \n",
       "1250  Less than once a month but more than once per ...   \n",
       "\n",
       "                                             OpenSource          Employment  \\\n",
       "1128  OSS is, on average, of HIGHER quality than pro...  Employed full-time   \n",
       "1189  OSS is, on average, of HIGHER quality than pro...  Employed full-time   \n",
       "1250  OSS is, on average, of HIGHER quality than pro...  Employed full-time   \n",
       "\n",
       "            Country Student  \\\n",
       "1128  United States      No   \n",
       "1189  United States      No   \n",
       "1250  United States      No   \n",
       "\n",
       "                                                EdLevel  \\\n",
       "1128  Some college/university study without earning ...   \n",
       "1189  Some college/university study without earning ...   \n",
       "1250  Some college/university study without earning ...   \n",
       "\n",
       "                     UndergradMajor  ...  \\\n",
       "1128  Web development or web design  ...   \n",
       "1189  Web development or web design  ...   \n",
       "1250  Web development or web design  ...   \n",
       "\n",
       "                                WelcomeChange  \\\n",
       "1128  Just as welcome now as I felt last year   \n",
       "1189  Just as welcome now as I felt last year   \n",
       "1250  Just as welcome now as I felt last year   \n",
       "\n",
       "                                      SONewContent   Age Gender Trans  \\\n",
       "1128  Courses on technologies you're interested in  31.0    Man    No   \n",
       "1189  Courses on technologies you're interested in  31.0    Man    No   \n",
       "1250  Courses on technologies you're interested in  31.0    Man    No   \n",
       "\n",
       "                    Sexuality                     Ethnicity Dependents  \\\n",
       "1128  Straight / Heterosexual  White or of European descent         No   \n",
       "1189  Straight / Heterosexual  White or of European descent         No   \n",
       "1250  Straight / Heterosexual  White or of European descent         No   \n",
       "\n",
       "               SurveyLength                  SurveyEase  \n",
       "1128  Appropriate in length  Neither easy nor difficult  \n",
       "1189  Appropriate in length  Neither easy nor difficult  \n",
       "1250  Appropriate in length  Neither easy nor difficult  \n",
       "\n",
       "[3 rows x 85 columns]"
      ]
     },
     "execution_count": 10,
     "metadata": {},
     "output_type": "execute_result"
    }
   ],
   "source": [
    "# we will see an example of duplicated values:\n",
    "df[df['Respondent']==2392]"
   ]
  },
  {
   "cell_type": "code",
   "execution_count": 12,
   "metadata": {},
   "outputs": [
    {
     "data": {
      "text/plain": [
       "0"
      ]
     },
     "execution_count": 12,
     "metadata": {},
     "output_type": "execute_result"
    }
   ],
   "source": [
    "# we will delete the duplicated values as it will impact the analysis\n",
    "df.drop_duplicates(keep='first',inplace=True)\n",
    "df.duplicated().sum()"
   ]
  },
  {
   "cell_type": "markdown",
   "metadata": {},
   "source": [
    "#### Check missing values"
   ]
  },
  {
   "cell_type": "code",
   "execution_count": 28,
   "metadata": {
    "scrolled": true
   },
   "outputs": [
    {
     "name": "stdout",
     "output_type": "stream",
     "text": [
      "OpenSource 81\n",
      "Student 51\n",
      "EdLevel 112\n",
      "UndergradMajor 737\n",
      "EduOther 164\n",
      "OrgSize 96\n",
      "DevType 65\n",
      "YearsCode 9\n",
      "Age1stCode 13\n",
      "YearsCodePro 16\n",
      "JobSat 1\n",
      "MgrIdiot 493\n",
      "MgrMoney 497\n",
      "MgrWant 493\n",
      "LastInt 413\n",
      "FizzBuzz 37\n",
      "JobFactors 3\n",
      "ResumeUpdate 39\n",
      "CompTotal 809\n",
      "CompFreq 206\n",
      "ConvertedComp 816\n",
      "WorkWeekHrs 122\n",
      "WorkPlan 121\n",
      "WorkChallenge 164\n",
      "WorkRemote 8\n",
      "WorkLoc 32\n",
      "ImpSyn 5\n",
      "CodeRev 1\n",
      "CodeRevHrs 2426\n",
      "UnitTests 29\n",
      "PurchaseHow 196\n",
      "PurchaseWhat 38\n",
      "LanguageWorkedWith 11\n",
      "LanguageDesireNextYear 134\n",
      "DatabaseWorkedWith 453\n",
      "DatabaseDesireNextYear 1042\n",
      "PlatformWorkedWith 411\n",
      "PlatformDesireNextYear 544\n",
      "WebFrameWorkedWith 1393\n",
      "WebFrameDesireNextYear 1617\n",
      "MiscTechWorkedWith 2182\n",
      "MiscTechDesireNextYear 1455\n",
      "DevEnviron 29\n",
      "OpSys 34\n",
      "Containers 82\n",
      "BlockchainOrg 2322\n",
      "BlockchainIs 2610\n",
      "BetterLife 98\n",
      "ITperson 35\n",
      "OffOn 38\n",
      "SocialMedia 293\n",
      "Extraversion 20\n",
      "ScreenName 507\n",
      "SOVisit1st 325\n",
      "SOVisitFreq 5\n",
      "SOVisitTo 1\n",
      "SOFindAnswer 3\n",
      "SOTimeSaved 50\n",
      "SOHowMuchTime 1917\n",
      "SOAccount 1\n",
      "SOPartFreq 1128\n",
      "SOJobs 6\n",
      "EntTeams 5\n",
      "WelcomeChange 85\n",
      "SONewContent 1965\n",
      "Age 287\n",
      "Gender 73\n",
      "Trans 123\n",
      "Sexuality 542\n",
      "Ethnicity 675\n",
      "Dependents 140\n",
      "SurveyLength 19\n",
      "SurveyEase 14\n"
     ]
    }
   ],
   "source": [
    "# return all missing values in for each column\n",
    "df_null=df.isnull().sum().to_frame()\n",
    "\n",
    "for i in range(len(df_null.index)):\n",
    "    if df_null[0][i] != 0:\n",
    "        print(df_null.index[i],df_null[0][i])"
   ]
  },
  {
   "cell_type": "code",
   "execution_count": 162,
   "metadata": {},
   "outputs": [
    {
     "data": {
      "text/plain": [
       "73"
      ]
     },
     "execution_count": 162,
     "metadata": {},
     "output_type": "execute_result"
    }
   ],
   "source": [
    "len(df_null[df_null[0]!=0][0])"
   ]
  },
  {
   "cell_type": "code",
   "execution_count": 30,
   "metadata": {},
   "outputs": [
    {
     "data": {
      "text/plain": [
       "0"
      ]
     },
     "execution_count": 30,
     "metadata": {},
     "output_type": "execute_result"
    }
   ],
   "source": [
    "# we will only deal with 'WorkLoc' here, and leave the rest as it is\n",
    "   #df['WorkLoc'].describe()\n",
    "\n",
    "# the majority of worklocation is office, so we will fill the null values with OFFICE\n",
    "df.fillna(value={'WorkLoc':\"Office\"},inplace=True)\n",
    "df['WorkLoc'].isnull().sum()"
   ]
  },
  {
   "cell_type": "markdown",
   "metadata": {},
   "source": [
    "#### Check features"
   ]
  },
  {
   "cell_type": "code",
   "execution_count": 54,
   "metadata": {},
   "outputs": [
    {
     "name": "stdout",
     "output_type": "stream",
     "text": [
      "0 6\n"
     ]
    }
   ],
   "source": [
    "# check compensations for example\n",
    "# delete 809 records with no compensation information available\n",
    "df_compensation=df[~df['CompTotal'].isnull()]\n",
    "\n",
    "print(df_compensation['CompTotal'].isnull().sum(),\n",
    "df_compensation['CompFreq'].isnull().sum())"
   ]
  },
  {
   "cell_type": "code",
   "execution_count": 59,
   "metadata": {},
   "outputs": [
    {
     "data": {
      "text/plain": [
       "0"
      ]
     },
     "execution_count": 59,
     "metadata": {},
     "output_type": "execute_result"
    }
   ],
   "source": [
    "# check the records with no compensation frequency available\n",
    "    #df_compensation[df_compensation['CompFreq'].isnull()]['CompTotal']\n",
    "\n",
    "# check the examples of monthly payment\n",
    "    #df_compensation[df_compensation['CompFreq']=='Monthly']['CompTotal'].head(20)\n",
    "\n",
    "# there is no enough information to determine its frequency type, so we will delete them for analysis\n",
    "df_compensation=df_compensation[~df_compensation['CompFreq'].isnull()]\n",
    "df_compensation['CompFreq'].isnull().sum()"
   ]
  },
  {
   "cell_type": "code",
   "execution_count": 60,
   "metadata": {},
   "outputs": [
    {
     "data": {
      "text/plain": [
       "dtype('float64')"
      ]
     },
     "execution_count": 60,
     "metadata": {},
     "output_type": "execute_result"
    }
   ],
   "source": [
    "df_compensation['CompTotal'].dtypes"
   ]
  },
  {
   "cell_type": "code",
   "execution_count": 101,
   "metadata": {},
   "outputs": [
    {
     "data": {
      "text/html": [
       "<div>\n",
       "<style scoped>\n",
       "    .dataframe tbody tr th:only-of-type {\n",
       "        vertical-align: middle;\n",
       "    }\n",
       "\n",
       "    .dataframe tbody tr th {\n",
       "        vertical-align: top;\n",
       "    }\n",
       "\n",
       "    .dataframe thead th {\n",
       "        text-align: right;\n",
       "    }\n",
       "</style>\n",
       "<table border=\"1\" class=\"dataframe\">\n",
       "  <thead>\n",
       "    <tr style=\"text-align: right;\">\n",
       "      <th></th>\n",
       "      <th>Respondent</th>\n",
       "      <th>MainBranch</th>\n",
       "      <th>Hobbyist</th>\n",
       "      <th>OpenSourcer</th>\n",
       "      <th>OpenSource</th>\n",
       "      <th>Employment</th>\n",
       "      <th>Country</th>\n",
       "      <th>Student</th>\n",
       "      <th>EdLevel</th>\n",
       "      <th>UndergradMajor</th>\n",
       "      <th>...</th>\n",
       "      <th>SONewContent</th>\n",
       "      <th>Age</th>\n",
       "      <th>Gender</th>\n",
       "      <th>Trans</th>\n",
       "      <th>Sexuality</th>\n",
       "      <th>Ethnicity</th>\n",
       "      <th>Dependents</th>\n",
       "      <th>SurveyLength</th>\n",
       "      <th>SurveyEase</th>\n",
       "      <th>NormalizedAnnualCompensation</th>\n",
       "    </tr>\n",
       "  </thead>\n",
       "  <tbody>\n",
       "    <tr>\n",
       "      <th>0</th>\n",
       "      <td>4</td>\n",
       "      <td>I am a developer by profession</td>\n",
       "      <td>No</td>\n",
       "      <td>Never</td>\n",
       "      <td>The quality of OSS and closed source software ...</td>\n",
       "      <td>Employed full-time</td>\n",
       "      <td>United States</td>\n",
       "      <td>No</td>\n",
       "      <td>Bachelor’s degree (BA, BS, B.Eng., etc.)</td>\n",
       "      <td>Computer science, computer engineering, or sof...</td>\n",
       "      <td>...</td>\n",
       "      <td>Tech articles written by other developers;Indu...</td>\n",
       "      <td>22.0</td>\n",
       "      <td>Man</td>\n",
       "      <td>No</td>\n",
       "      <td>Straight / Heterosexual</td>\n",
       "      <td>White or of European descent</td>\n",
       "      <td>No</td>\n",
       "      <td>Appropriate in length</td>\n",
       "      <td>Easy</td>\n",
       "      <td>61000.0</td>\n",
       "    </tr>\n",
       "    <tr>\n",
       "      <th>1</th>\n",
       "      <td>9</td>\n",
       "      <td>I am a developer by profession</td>\n",
       "      <td>Yes</td>\n",
       "      <td>Once a month or more often</td>\n",
       "      <td>The quality of OSS and closed source software ...</td>\n",
       "      <td>Employed full-time</td>\n",
       "      <td>New Zealand</td>\n",
       "      <td>No</td>\n",
       "      <td>Some college/university study without earning ...</td>\n",
       "      <td>Computer science, computer engineering, or sof...</td>\n",
       "      <td>...</td>\n",
       "      <td>NaN</td>\n",
       "      <td>23.0</td>\n",
       "      <td>Man</td>\n",
       "      <td>No</td>\n",
       "      <td>Bisexual</td>\n",
       "      <td>White or of European descent</td>\n",
       "      <td>No</td>\n",
       "      <td>Appropriate in length</td>\n",
       "      <td>Neither easy nor difficult</td>\n",
       "      <td>138000.0</td>\n",
       "    </tr>\n",
       "    <tr>\n",
       "      <th>2</th>\n",
       "      <td>13</td>\n",
       "      <td>I am a developer by profession</td>\n",
       "      <td>Yes</td>\n",
       "      <td>Less than once a month but more than once per ...</td>\n",
       "      <td>OSS is, on average, of HIGHER quality than pro...</td>\n",
       "      <td>Employed full-time</td>\n",
       "      <td>United States</td>\n",
       "      <td>No</td>\n",
       "      <td>Master’s degree (MA, MS, M.Eng., MBA, etc.)</td>\n",
       "      <td>Computer science, computer engineering, or sof...</td>\n",
       "      <td>...</td>\n",
       "      <td>Tech articles written by other developers;Cour...</td>\n",
       "      <td>28.0</td>\n",
       "      <td>Man</td>\n",
       "      <td>No</td>\n",
       "      <td>Straight / Heterosexual</td>\n",
       "      <td>White or of European descent</td>\n",
       "      <td>Yes</td>\n",
       "      <td>Appropriate in length</td>\n",
       "      <td>Easy</td>\n",
       "      <td>90000.0</td>\n",
       "    </tr>\n",
       "    <tr>\n",
       "      <th>3</th>\n",
       "      <td>16</td>\n",
       "      <td>I am a developer by profession</td>\n",
       "      <td>Yes</td>\n",
       "      <td>Never</td>\n",
       "      <td>The quality of OSS and closed source software ...</td>\n",
       "      <td>Employed full-time</td>\n",
       "      <td>United Kingdom</td>\n",
       "      <td>No</td>\n",
       "      <td>Master’s degree (MA, MS, M.Eng., MBA, etc.)</td>\n",
       "      <td>NaN</td>\n",
       "      <td>...</td>\n",
       "      <td>Tech articles written by other developers;Indu...</td>\n",
       "      <td>26.0</td>\n",
       "      <td>Man</td>\n",
       "      <td>No</td>\n",
       "      <td>Straight / Heterosexual</td>\n",
       "      <td>White or of European descent</td>\n",
       "      <td>No</td>\n",
       "      <td>Appropriate in length</td>\n",
       "      <td>Neither easy nor difficult</td>\n",
       "      <td>348000.0</td>\n",
       "    </tr>\n",
       "    <tr>\n",
       "      <th>4</th>\n",
       "      <td>17</td>\n",
       "      <td>I am a developer by profession</td>\n",
       "      <td>Yes</td>\n",
       "      <td>Less than once a month but more than once per ...</td>\n",
       "      <td>The quality of OSS and closed source software ...</td>\n",
       "      <td>Employed full-time</td>\n",
       "      <td>Australia</td>\n",
       "      <td>No</td>\n",
       "      <td>Bachelor’s degree (BA, BS, B.Eng., etc.)</td>\n",
       "      <td>Computer science, computer engineering, or sof...</td>\n",
       "      <td>...</td>\n",
       "      <td>Tech articles written by other developers;Indu...</td>\n",
       "      <td>29.0</td>\n",
       "      <td>Man</td>\n",
       "      <td>No</td>\n",
       "      <td>Straight / Heterosexual</td>\n",
       "      <td>Hispanic or Latino/Latina;Multiracial</td>\n",
       "      <td>No</td>\n",
       "      <td>Appropriate in length</td>\n",
       "      <td>Easy</td>\n",
       "      <td>90000.0</td>\n",
       "    </tr>\n",
       "  </tbody>\n",
       "</table>\n",
       "<p>5 rows × 86 columns</p>\n",
       "</div>"
      ],
      "text/plain": [
       "   Respondent                      MainBranch Hobbyist  \\\n",
       "0           4  I am a developer by profession       No   \n",
       "1           9  I am a developer by profession      Yes   \n",
       "2          13  I am a developer by profession      Yes   \n",
       "3          16  I am a developer by profession      Yes   \n",
       "4          17  I am a developer by profession      Yes   \n",
       "\n",
       "                                         OpenSourcer  \\\n",
       "0                                              Never   \n",
       "1                         Once a month or more often   \n",
       "2  Less than once a month but more than once per ...   \n",
       "3                                              Never   \n",
       "4  Less than once a month but more than once per ...   \n",
       "\n",
       "                                          OpenSource          Employment  \\\n",
       "0  The quality of OSS and closed source software ...  Employed full-time   \n",
       "1  The quality of OSS and closed source software ...  Employed full-time   \n",
       "2  OSS is, on average, of HIGHER quality than pro...  Employed full-time   \n",
       "3  The quality of OSS and closed source software ...  Employed full-time   \n",
       "4  The quality of OSS and closed source software ...  Employed full-time   \n",
       "\n",
       "          Country Student                                            EdLevel  \\\n",
       "0   United States      No           Bachelor’s degree (BA, BS, B.Eng., etc.)   \n",
       "1     New Zealand      No  Some college/university study without earning ...   \n",
       "2   United States      No        Master’s degree (MA, MS, M.Eng., MBA, etc.)   \n",
       "3  United Kingdom      No        Master’s degree (MA, MS, M.Eng., MBA, etc.)   \n",
       "4       Australia      No           Bachelor’s degree (BA, BS, B.Eng., etc.)   \n",
       "\n",
       "                                      UndergradMajor  ...  \\\n",
       "0  Computer science, computer engineering, or sof...  ...   \n",
       "1  Computer science, computer engineering, or sof...  ...   \n",
       "2  Computer science, computer engineering, or sof...  ...   \n",
       "3                                                NaN  ...   \n",
       "4  Computer science, computer engineering, or sof...  ...   \n",
       "\n",
       "                                        SONewContent   Age Gender Trans  \\\n",
       "0  Tech articles written by other developers;Indu...  22.0    Man    No   \n",
       "1                                                NaN  23.0    Man    No   \n",
       "2  Tech articles written by other developers;Cour...  28.0    Man    No   \n",
       "3  Tech articles written by other developers;Indu...  26.0    Man    No   \n",
       "4  Tech articles written by other developers;Indu...  29.0    Man    No   \n",
       "\n",
       "                 Sexuality                              Ethnicity Dependents  \\\n",
       "0  Straight / Heterosexual           White or of European descent         No   \n",
       "1                 Bisexual           White or of European descent         No   \n",
       "2  Straight / Heterosexual           White or of European descent        Yes   \n",
       "3  Straight / Heterosexual           White or of European descent         No   \n",
       "4  Straight / Heterosexual  Hispanic or Latino/Latina;Multiracial         No   \n",
       "\n",
       "            SurveyLength                  SurveyEase  \\\n",
       "0  Appropriate in length                        Easy   \n",
       "1  Appropriate in length  Neither easy nor difficult   \n",
       "2  Appropriate in length                        Easy   \n",
       "3  Appropriate in length  Neither easy nor difficult   \n",
       "4  Appropriate in length                        Easy   \n",
       "\n",
       "  NormalizedAnnualCompensation  \n",
       "0                      61000.0  \n",
       "1                     138000.0  \n",
       "2                      90000.0  \n",
       "3                     348000.0  \n",
       "4                      90000.0  \n",
       "\n",
       "[5 rows x 86 columns]"
      ]
     },
     "execution_count": 101,
     "metadata": {},
     "output_type": "execute_result"
    }
   ],
   "source": [
    "# get the annual salary for all records for further analysis\n",
    "salary=[]\n",
    "\n",
    "for freqtype,money in zip(df_compensation['CompFreq'],df_compensation['CompTotal']):\n",
    "    if freqtype == 'Yearly':\n",
    "        salary.append(money)\n",
    "    elif freqtype == 'Monthly':\n",
    "        salary.append(money*12)\n",
    "    else:\n",
    "        salary.append(money*52)\n",
    "df_compensation['NormalizedAnnualCompensation']=salary\n",
    "df_compensation.head()"
   ]
  },
  {
   "cell_type": "markdown",
   "metadata": {},
   "source": [
    "# EDA\n",
    "<br>Summary\n",
    "- It shows that the annual compensation is positively skewed with 15% of values are recognised as outliers.\n",
    "- The overall median value is 100000, with specifically man of 100000 and woman of 89000.\n",
    "- For feature of age, the distribution is also positively skewed, with median value of 29. <br>\n",
    "There is no obvious correlation between age and other numerical features. "
   ]
  },
  {
   "cell_type": "markdown",
   "metadata": {},
   "source": [
    "#### How annual compensations distribute"
   ]
  },
  {
   "cell_type": "code",
   "execution_count": 106,
   "metadata": {},
   "outputs": [
    {
     "data": {
      "text/plain": [
       "<matplotlib.axes._subplots.AxesSubplot at 0x200f05b60a0>"
      ]
     },
     "execution_count": 106,
     "metadata": {},
     "output_type": "execute_result"
    },
    {
     "data": {
      "image/png": "[encoded data removed]",
      "text/plain": [
       "<Figure size 432x288 with 1 Axes>"
      ]
     },
     "metadata": {
      "needs_background": "light"
     },
     "output_type": "display_data"
    }
   ],
   "source": [
    "df_compensation[['NormalizedAnnualCompensation']].plot.hist()"
   ]
  },
  {
   "cell_type": "code",
   "execution_count": 108,
   "metadata": {},
   "outputs": [
    {
     "data": {
      "text/plain": [
       "{'whiskers': [<matplotlib.lines.Line2D at 0x200f0d66850>,\n",
       "  <matplotlib.lines.Line2D at 0x200f0d66bb0>],\n",
       " 'caps': [<matplotlib.lines.Line2D at 0x200f0d66f10>,\n",
       "  <matplotlib.lines.Line2D at 0x200f0d762b0>],\n",
       " 'boxes': [<matplotlib.lines.Line2D at 0x200f0d664f0>],\n",
       " 'medians': [<matplotlib.lines.Line2D at 0x200f0d76640>],\n",
       " 'fliers': [<matplotlib.lines.Line2D at 0x200f0d76940>],\n",
       " 'means': []}"
      ]
     },
     "execution_count": 108,
     "metadata": {},
     "output_type": "execute_result"
    },
    {
     "data": {
      "image/png": "[encoded data removed]",
      "text/plain": [
       "<Figure size 432x288 with 1 Axes>"
      ]
     },
     "metadata": {
      "needs_background": "light"
     },
     "output_type": "display_data"
    }
   ],
   "source": [
    "plt.boxplot(df_compensation['NormalizedAnnualCompensation'])"
   ]
  },
  {
   "cell_type": "markdown",
   "metadata": {},
   "source": [
    "It shows that the annual salary is positively skewed distribution <br>\n",
    "so median value would make more sense than mean values."
   ]
  },
  {
   "cell_type": "code",
   "execution_count": 110,
   "metadata": {},
   "outputs": [
    {
     "data": {
      "text/plain": [
       "count    1.058300e+04\n",
       "mean     6.136037e+06\n",
       "std      9.840938e+07\n",
       "min      0.000000e+00\n",
       "25%      5.200000e+04\n",
       "50%      1.000000e+05\n",
       "75%      3.600000e+05\n",
       "max      8.400000e+09\n",
       "Name: NormalizedAnnualCompensation, dtype: float64"
      ]
     },
     "execution_count": 110,
     "metadata": {},
     "output_type": "execute_result"
    }
   ],
   "source": [
    "df_compensation['NormalizedAnnualCompensation'].describe()"
   ]
  },
  {
   "cell_type": "code",
   "execution_count": 135,
   "metadata": {},
   "outputs": [
    {
     "name": "stdout",
     "output_type": "stream",
     "text": [
      "822000.0 -410000.0\n",
      "There are 15.0% are outliers\n"
     ]
    }
   ],
   "source": [
    "# we then find the outliers for the compensations\n",
    "IQR=df_compensation['NormalizedAnnualCompensation'].quantile(q=0.75)-df_compensation['NormalizedAnnualCompensation'].quantile(q=0.25)\n",
    "upper=IQR*1.5+df_compensation['NormalizedAnnualCompensation'].quantile(q=0.75)\n",
    "lower=df_compensation['NormalizedAnnualCompensation'].quantile(q=0.25)-1.5*IQR\n",
    "print(upper,lower)\n",
    "print('There are','{:.1%}'.format(round(df_compensation[df_compensation['NormalizedAnnualCompensation']>upper]['NormalizedAnnualCompensation'].count()/df_compensation.shape[0],2)),\n",
    "      'are outliers')"
   ]
  },
  {
   "cell_type": "markdown",
   "metadata": {},
   "source": [
    "#### Take gender into consideration"
   ]
  },
  {
   "cell_type": "code",
   "execution_count": 114,
   "metadata": {},
   "outputs": [
    {
     "name": "stdout",
     "output_type": "stream",
     "text": [
      "Man                                                            9726\n",
      "Woman                                                           679\n",
      "Non-binary, genderqueer, or gender non-conforming                59\n",
      "Man;Non-binary, genderqueer, or gender non-conforming            26\n",
      "Woman;Non-binary, genderqueer, or gender non-conforming          14\n",
      "Woman;Man                                                         7\n",
      "Woman;Man;Non-binary, genderqueer, or gender non-conforming       2\n",
      "Name: Gender, dtype: int64 \n",
      " 70\n"
     ]
    }
   ],
   "source": [
    "print(df_compensation['Gender'].value_counts(),'\\n',\n",
    "df_compensation['Gender'].isnull().sum())"
   ]
  },
  {
   "cell_type": "code",
   "execution_count": 118,
   "metadata": {},
   "outputs": [
    {
     "data": {
      "text/html": [
       "<div>\n",
       "<style scoped>\n",
       "    .dataframe tbody tr th:only-of-type {\n",
       "        vertical-align: middle;\n",
       "    }\n",
       "\n",
       "    .dataframe tbody tr th {\n",
       "        vertical-align: top;\n",
       "    }\n",
       "\n",
       "    .dataframe thead th {\n",
       "        text-align: right;\n",
       "    }\n",
       "</style>\n",
       "<table border=\"1\" class=\"dataframe\">\n",
       "  <thead>\n",
       "    <tr style=\"text-align: right;\">\n",
       "      <th></th>\n",
       "      <th>NormalizedAnnualCompensation</th>\n",
       "    </tr>\n",
       "    <tr>\n",
       "      <th>Gender</th>\n",
       "      <th></th>\n",
       "    </tr>\n",
       "  </thead>\n",
       "  <tbody>\n",
       "    <tr>\n",
       "      <th>Man</th>\n",
       "      <td>100000.0</td>\n",
       "    </tr>\n",
       "    <tr>\n",
       "      <th>Man;Non-binary, genderqueer, or gender non-conforming</th>\n",
       "      <td>75000.0</td>\n",
       "    </tr>\n",
       "    <tr>\n",
       "      <th>Non-binary, genderqueer, or gender non-conforming</th>\n",
       "      <td>79200.0</td>\n",
       "    </tr>\n",
       "    <tr>\n",
       "      <th>Woman</th>\n",
       "      <td>89000.0</td>\n",
       "    </tr>\n",
       "    <tr>\n",
       "      <th>Woman;Man</th>\n",
       "      <td>360000.0</td>\n",
       "    </tr>\n",
       "    <tr>\n",
       "      <th>Woman;Man;Non-binary, genderqueer, or gender non-conforming</th>\n",
       "      <td>111650.0</td>\n",
       "    </tr>\n",
       "    <tr>\n",
       "      <th>Woman;Non-binary, genderqueer, or gender non-conforming</th>\n",
       "      <td>85000.0</td>\n",
       "    </tr>\n",
       "  </tbody>\n",
       "</table>\n",
       "</div>"
      ],
      "text/plain": [
       "                                                    NormalizedAnnualCompensation\n",
       "Gender                                                                          \n",
       "Man                                                                     100000.0\n",
       "Man;Non-binary, genderqueer, or gender non-conf...                       75000.0\n",
       "Non-binary, genderqueer, or gender non-conforming                        79200.0\n",
       "Woman                                                                    89000.0\n",
       "Woman;Man                                                               360000.0\n",
       "Woman;Man;Non-binary, genderqueer, or gender no...                      111650.0\n",
       "Woman;Non-binary, genderqueer, or gender non-co...                       85000.0"
      ]
     },
     "execution_count": 118,
     "metadata": {},
     "output_type": "execute_result"
    }
   ],
   "source": [
    "# delete records without gender information\n",
    "df_gender_com=df_compensation[~df_compensation['Gender'].isnull()]\n",
    "df_gender_com.groupby(['Gender']).agg({'NormalizedAnnualCompensation':'median'})"
   ]
  },
  {
   "cell_type": "markdown",
   "metadata": {},
   "source": [
    "It shows that woman earn less than man in terms of median salary."
   ]
  },
  {
   "cell_type": "markdown",
   "metadata": {},
   "source": [
    "#### Explore feature of Age"
   ]
  },
  {
   "cell_type": "code",
   "execution_count": 143,
   "metadata": {},
   "outputs": [
    {
     "data": {
      "text/plain": [
       "<matplotlib.axes._subplots.AxesSubplot at 0x200f0d98970>"
      ]
     },
     "execution_count": 143,
     "metadata": {},
     "output_type": "execute_result"
    },
    {
     "data": {
      "image/png": "[encoded data removed]",
      "text/plain": [
       "<Figure size 432x288 with 1 Axes>"
      ]
     },
     "metadata": {
      "needs_background": "light"
     },
     "output_type": "display_data"
    }
   ],
   "source": [
    "df['Age'].isnull().sum()\n",
    "\n",
    "# delete the records without age information for further analysis\n",
    "df_age=df[~df['Age'].isnull()]\n",
    "df_age['Age'].plot(kind='hist')"
   ]
  },
  {
   "cell_type": "markdown",
   "metadata": {},
   "source": [
    "It shows that age is a positively skewed distribution<br>\n",
    "we will use median to describe the average standard."
   ]
  },
  {
   "cell_type": "code",
   "execution_count": 144,
   "metadata": {},
   "outputs": [
    {
     "data": {
      "text/plain": [
       "count    11111.000000\n",
       "mean        30.778895\n",
       "std          7.393686\n",
       "min         16.000000\n",
       "25%         25.000000\n",
       "50%         29.000000\n",
       "75%         35.000000\n",
       "max         99.000000\n",
       "Name: Age, dtype: float64"
      ]
     },
     "execution_count": 144,
     "metadata": {},
     "output_type": "execute_result"
    }
   ],
   "source": [
    "# get the median value\n",
    "df_age['Age'].describe()"
   ]
  },
  {
   "cell_type": "code",
   "execution_count": 158,
   "metadata": {},
   "outputs": [
    {
     "data": {
      "text/plain": [
       "Respondent                      0.002475\n",
       "CompTotal                       0.006953\n",
       "ConvertedComp                   0.105386\n",
       "WorkWeekHrs                     0.031595\n",
       "CodeRevHrs                     -0.015792\n",
       "Age                             1.000000\n",
       "NormalizedAnnualCompensation   -0.005222\n",
       "Name: Age, dtype: float64"
      ]
     },
     "execution_count": 158,
     "metadata": {},
     "output_type": "execute_result"
    }
   ],
   "source": [
    "# See how other numerical features correlated with age\n",
    "df_age_compensation=pd.merge(df_age,df_compensation[['Respondent','NormalizedAnnualCompensation']],how='inner',on='Respondent')\n",
    "df_age_compensation.corr()['Age']"
   ]
  },
  {
   "cell_type": "markdown",
   "metadata": {},
   "source": [
    "It does not show any numerical features have obvious correlations with Age."
   ]
  },
  {
   "cell_type": "code",
   "execution_count": 168,
   "metadata": {},
   "outputs": [
    {
     "data": {
      "text/plain": [
       "(11398, 86)"
      ]
     },
     "execution_count": 168,
     "metadata": {},
     "output_type": "execute_result"
    }
   ],
   "source": [
    "# save the file\n",
    "df=pd.merge(df,df_compensation[['Respondent','NormalizedAnnualCompensation']],how='left',on='Respondent')\n",
    "df.shape"
   ]
  },
  {
   "cell_type": "code",
   "execution_count": 169,
   "metadata": {},
   "outputs": [],
   "source": [
    "df.to_csv('stack_survey_data_cleaned.csv')"
   ]
  }
 ],
 "metadata": {
  "kernelspec": {
   "display_name": "Python 3",
   "language": "python",
   "name": "python3"
  },
  "language_info": {
   "codemirror_mode": {
    "name": "ipython",
    "version": 3
   },
   "file_extension": ".py",
   "mimetype": "text/x-python",
   "name": "python",
   "nbconvert_exporter": "python",
   "pygments_lexer": "ipython3",
   "version": "3.8.3"
  }
 },
 "nbformat": 4,
 "nbformat_minor": 4
}

{
 "cells": [
  {
   "cell_type": "markdown",
   "metadata": {},
   "source": [
    "### Objective: \n",
    "- Determine the number of jobs currently open for various technologies <br>\n",
    "The technologies we are interested:\n",
    "C\n",
    "C#\n",
    "C++\n",
    "Java\n",
    "JavaScript\n",
    "Python\n",
    "Scala\n",
    "Oracle\n",
    "SQL Server\n",
    "MySQL Server\n",
    "PostgreSQL\n",
    "MongoDB<br>\n",
    "(The documentation for the GitHub Jobs API can be found at https://jobs.github.com/api)"
   ]
  },
  {
   "cell_type": "code",
   "execution_count": 25,
   "metadata": {},
   "outputs": [],
   "source": [
    "import requests\n",
    "import pandas as pd\n",
    "import matplotlib.pyplot as plt\n",
    "import matplotlib\n",
    "%matplotlib inline"
   ]
  },
  {
   "cell_type": "code",
   "execution_count": 20,
   "metadata": {},
   "outputs": [
    {
     "data": {
      "text/plain": [
       "13"
      ]
     },
     "execution_count": 20,
     "metadata": {},
     "output_type": "execute_result"
    }
   ],
   "source": [
    "# before we will write a function for all the technologies\n",
    "# let's test 1 technology for example\n",
    "\n",
    "baseurl='https://jobs.github.com/positions.json'\n",
    "\n",
    "parm = {'description':\"Java\",\"page\":2}\n",
    "rp = requests.get(baseurl,parm)\n",
    "content=rp.json()\n",
    "len(content)\n",
    "# there are 63 in total for java"
   ]
  },
  {
   "cell_type": "markdown",
   "metadata": {},
   "source": [
    "The API gives a maximum of 50 jobs per page.<br>\n",
    "If you get 50 jobs per page, it means there could be some more job listings available.<br>\n",
    "So if you get 50 jobs per page you should make another API call for next page to check for more jobs.<br>\n",
    "If you get less than 50 jobs per page, you can take it as the final count.<br>"
   ]
  },
  {
   "cell_type": "code",
   "execution_count": 3,
   "metadata": {},
   "outputs": [],
   "source": [
    "# define the function for all technologies:\n",
    "\n",
    "def get_number_of_jobs(technology):\n",
    "    number_of_jobs = 0\n",
    "    parm = {\"description\":technology,'page':1}\n",
    "    rp = requests.get(baseurl,parm)\n",
    "    content = rp.json()\n",
    "    \n",
    "    if len(content) <50:\n",
    "        number_of_jobs = len(content)\n",
    "    else:\n",
    "        n=1\n",
    "        while len(content) ==50:\n",
    "            n += 1\n",
    "            parm = {\"description\":technology,'page':n}\n",
    "            rp = requests.get(baseurl,parm)\n",
    "            content = rp.json()\n",
    "            number_of_jobs = 50*(n-1)+len(content) \n",
    "            if len(content)<50:\n",
    "                break        \n",
    "    return technology,number_of_jobs"
   ]
  },
  {
   "cell_type": "code",
   "execution_count": 21,
   "metadata": {},
   "outputs": [
    {
     "name": "stdout",
     "output_type": "stream",
     "text": [
      "('Java', 63)\n"
     ]
    }
   ],
   "source": [
    "# test function for Java\n",
    "\n",
    "print(get_number_of_jobs('Java'))"
   ]
  },
  {
   "cell_type": "code",
   "execution_count": 22,
   "metadata": {},
   "outputs": [],
   "source": [
    "# apply the function for all technologies\n",
    "technology=[\"C\",\"C#\",\"C++\",\"Java\",\"JavaScript\",\"Python\",\"Scala\",\"Oracle\",\"SQL Server\",\"MySQL Server\",\"PostgreSQL\",\"MongoDB\"]\n",
    "new = []\n",
    "for tech in technology:\n",
    "    new.append(get_number_of_jobs(tech))\n",
    "\n",
    "df_noj=pd.DataFrame()\n",
    "df_noj=df_noj.append(new)"
   ]
  },
  {
   "cell_type": "code",
   "execution_count": 24,
   "metadata": {
    "scrolled": true
   },
   "outputs": [
    {
     "data": {
      "text/html": [
       "<div>\n",
       "<style scoped>\n",
       "    .dataframe tbody tr th:only-of-type {\n",
       "        vertical-align: middle;\n",
       "    }\n",
       "\n",
       "    .dataframe tbody tr th {\n",
       "        vertical-align: top;\n",
       "    }\n",
       "\n",
       "    .dataframe thead th {\n",
       "        text-align: right;\n",
       "    }\n",
       "</style>\n",
       "<table border=\"1\" class=\"dataframe\">\n",
       "  <thead>\n",
       "    <tr style=\"text-align: right;\">\n",
       "      <th></th>\n",
       "      <th>0</th>\n",
       "      <th>1</th>\n",
       "    </tr>\n",
       "  </thead>\n",
       "  <tbody>\n",
       "    <tr>\n",
       "      <th>0</th>\n",
       "      <td>C</td>\n",
       "      <td>132</td>\n",
       "    </tr>\n",
       "    <tr>\n",
       "      <th>1</th>\n",
       "      <td>C#</td>\n",
       "      <td>13</td>\n",
       "    </tr>\n",
       "    <tr>\n",
       "      <th>2</th>\n",
       "      <td>C++</td>\n",
       "      <td>12</td>\n",
       "    </tr>\n",
       "    <tr>\n",
       "      <th>3</th>\n",
       "      <td>Java</td>\n",
       "      <td>63</td>\n",
       "    </tr>\n",
       "    <tr>\n",
       "      <th>4</th>\n",
       "      <td>JavaScript</td>\n",
       "      <td>42</td>\n",
       "    </tr>\n",
       "  </tbody>\n",
       "</table>\n",
       "</div>"
      ],
      "text/plain": [
       "            0    1\n",
       "0           C  132\n",
       "1          C#   13\n",
       "2         C++   12\n",
       "3        Java   63\n",
       "4  JavaScript   42"
      ]
     },
     "execution_count": 24,
     "metadata": {},
     "output_type": "execute_result"
    }
   ],
   "source": [
    "df_noj.head()"
   ]
  },
  {
   "cell_type": "code",
   "execution_count": 27,
   "metadata": {
    "scrolled": true
   },
   "outputs": [
    {
     "data": {
      "text/plain": [
       "Text(0.5, 1.0, 'Counts of Job Openings on GitHub on 11/01/2021 ')"
      ]
     },
     "execution_count": 27,
     "metadata": {},
     "output_type": "execute_result"
    },
    {
     "data": {
      "image/png": "[encoded data removed]",
      "text/plain": [
       "<Figure size 432x288 with 1 Axes>"
      ]
     },
     "metadata": {
      "needs_background": "light"
     },
     "output_type": "display_data"
    }
   ],
   "source": [
    "df_noj.rename(columns={0:'TECH',1:'NOJ'},inplace=True)\n",
    "df_noj.sort_values(by='NOJ',ascending=False,inplace=True)\n",
    "df_noj.set_index('TECH').plot.bar()\n",
    "plt.legend('')\n",
    "plt.title('Counts of Job Openings on GitHub on 11/01/2021 ')"
   ]
  },
  {
   "cell_type": "code",
   "execution_count": 29,
   "metadata": {},
   "outputs": [],
   "source": [
    "df_noj.to_csv('Github_postjob.csv')"
   ]
  }
 ],
 "metadata": {
  "kernelspec": {
   "display_name": "Python 3",
   "language": "python",
   "name": "python3"
  },
  "language_info": {
   "codemirror_mode": {
    "name": "ipython",
    "version": 3
   },
   "file_extension": ".py",
   "mimetype": "text/x-python",
   "name": "python",
   "nbconvert_exporter": "python",
   "pygments_lexer": "ipython3",
   "version": "3.8.3"
  }
 },
 "nbformat": 4,
 "nbformat_minor": 4
}
